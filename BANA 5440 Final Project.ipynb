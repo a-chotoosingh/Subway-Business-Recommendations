{
 "cells": [
  {
   "cell_type": "code",
   "execution_count": 1,
   "id": "fc1a1fe4",
   "metadata": {},
   "outputs": [],
   "source": [
    "#Import modules\n",
    "import numpy as np\n",
    "import pandas as pd\n",
    "import matplotlib.pyplot as plt\n",
    "import seaborn as sns"
   ]
  },
  {
   "cell_type": "code",
   "execution_count": 2,
   "id": "0a64719d",
   "metadata": {},
   "outputs": [],
   "source": [
    "#Load the datasets\n",
    "restaurants_data = pd.read_csv('C:/Users/achot/Downloads/restaurants.csv')\n",
    "reviews_data = pd.read_csv('C:/Users/achot/Downloads/reviews.csv')"
   ]
  },
  {
   "cell_type": "code",
   "execution_count": 3,
   "id": "d098210d",
   "metadata": {},
   "outputs": [
    {
     "data": {
      "text/html": [
       "<div>\n",
       "<style scoped>\n",
       "    .dataframe tbody tr th:only-of-type {\n",
       "        vertical-align: middle;\n",
       "    }\n",
       "\n",
       "    .dataframe tbody tr th {\n",
       "        vertical-align: top;\n",
       "    }\n",
       "\n",
       "    .dataframe thead th {\n",
       "        text-align: right;\n",
       "    }\n",
       "</style>\n",
       "<table border=\"1\" class=\"dataframe\">\n",
       "  <thead>\n",
       "    <tr style=\"text-align: right;\">\n",
       "      <th></th>\n",
       "      <th>Unnamed: 0</th>\n",
       "      <th>business_id</th>\n",
       "      <th>name</th>\n",
       "      <th>city</th>\n",
       "      <th>state</th>\n",
       "      <th>categories</th>\n",
       "    </tr>\n",
       "  </thead>\n",
       "  <tbody>\n",
       "    <tr>\n",
       "      <th>0</th>\n",
       "      <td>15</td>\n",
       "      <td>cTSczU-9-cYUEM2DlNJcQw</td>\n",
       "      <td>1000 Figs</td>\n",
       "      <td>New Orleans</td>\n",
       "      <td>LA</td>\n",
       "      <td>Falafel, Mediterranean, Middle Eastern, Restau...</td>\n",
       "    </tr>\n",
       "    <tr>\n",
       "      <th>1</th>\n",
       "      <td>18</td>\n",
       "      <td>mcr1lAEdvGLMJhuPwI3I2A</td>\n",
       "      <td>101 Taiwanese Cuisine</td>\n",
       "      <td>Reno</td>\n",
       "      <td>NV</td>\n",
       "      <td>Food, Restaurants, Chinese, Bubble Tea, Taiwanese</td>\n",
       "    </tr>\n",
       "    <tr>\n",
       "      <th>2</th>\n",
       "      <td>20</td>\n",
       "      <td>iteoJ5b-zJHwkIqJsljrSQ</td>\n",
       "      <td>10th Street Baking</td>\n",
       "      <td>Belleville</td>\n",
       "      <td>IL</td>\n",
       "      <td>Restaurants, Bakeries, Food</td>\n",
       "    </tr>\n",
       "    <tr>\n",
       "      <th>3</th>\n",
       "      <td>27</td>\n",
       "      <td>HxU-aiv_9aqwiqYdXeEj1g</td>\n",
       "      <td>12 South Bistro</td>\n",
       "      <td>Nashville</td>\n",
       "      <td>TN</td>\n",
       "      <td>Restaurants, Bistros, Italian</td>\n",
       "    </tr>\n",
       "    <tr>\n",
       "      <th>4</th>\n",
       "      <td>29</td>\n",
       "      <td>H-cNdJ7CGHHu0iZZ729NKg</td>\n",
       "      <td>120 West Bar &amp; Grill</td>\n",
       "      <td>Indianapolis</td>\n",
       "      <td>IN</td>\n",
       "      <td>Food, Hotels &amp; Travel, Restaurants, Hotels, Am...</td>\n",
       "    </tr>\n",
       "  </tbody>\n",
       "</table>\n",
       "</div>"
      ],
      "text/plain": [
       "   Unnamed: 0             business_id                   name          city  \\\n",
       "0          15  cTSczU-9-cYUEM2DlNJcQw              1000 Figs   New Orleans   \n",
       "1          18  mcr1lAEdvGLMJhuPwI3I2A  101 Taiwanese Cuisine          Reno   \n",
       "2          20  iteoJ5b-zJHwkIqJsljrSQ     10th Street Baking    Belleville   \n",
       "3          27  HxU-aiv_9aqwiqYdXeEj1g        12 South Bistro     Nashville   \n",
       "4          29  H-cNdJ7CGHHu0iZZ729NKg   120 West Bar & Grill  Indianapolis   \n",
       "\n",
       "  state                                         categories  \n",
       "0    LA  Falafel, Mediterranean, Middle Eastern, Restau...  \n",
       "1    NV  Food, Restaurants, Chinese, Bubble Tea, Taiwanese  \n",
       "2    IL                        Restaurants, Bakeries, Food  \n",
       "3    TN                      Restaurants, Bistros, Italian  \n",
       "4    IN  Food, Hotels & Travel, Restaurants, Hotels, Am...  "
      ]
     },
     "execution_count": 3,
     "metadata": {},
     "output_type": "execute_result"
    }
   ],
   "source": [
    "#Examine the datasets\n",
    "restaurants_data.head()"
   ]
  },
  {
   "cell_type": "code",
   "execution_count": 4,
   "id": "254c8a3f",
   "metadata": {},
   "outputs": [
    {
     "data": {
      "text/html": [
       "<div>\n",
       "<style scoped>\n",
       "    .dataframe tbody tr th:only-of-type {\n",
       "        vertical-align: middle;\n",
       "    }\n",
       "\n",
       "    .dataframe tbody tr th {\n",
       "        vertical-align: top;\n",
       "    }\n",
       "\n",
       "    .dataframe thead th {\n",
       "        text-align: right;\n",
       "    }\n",
       "</style>\n",
       "<table border=\"1\" class=\"dataframe\">\n",
       "  <thead>\n",
       "    <tr style=\"text-align: right;\">\n",
       "      <th></th>\n",
       "      <th>Unnamed: 0</th>\n",
       "      <th>review_id</th>\n",
       "      <th>user_id</th>\n",
       "      <th>business_id</th>\n",
       "      <th>stars</th>\n",
       "      <th>date</th>\n",
       "    </tr>\n",
       "  </thead>\n",
       "  <tbody>\n",
       "    <tr>\n",
       "      <th>0</th>\n",
       "      <td>0</td>\n",
       "      <td>saUsX_uimxRlCVr67Z4Jig</td>\n",
       "      <td>8g_iMtfSiwikVnbP2etR0A</td>\n",
       "      <td>YjUWPpI6HXG530lwP-fb2A</td>\n",
       "      <td>3.0</td>\n",
       "      <td>2014-02-05 20:30:30</td>\n",
       "    </tr>\n",
       "    <tr>\n",
       "      <th>1</th>\n",
       "      <td>1</td>\n",
       "      <td>oUrKJzj_qZybqqPatE9q1A</td>\n",
       "      <td>n33TJBR6BPLrkOZiOdXLVg</td>\n",
       "      <td>YjUWPpI6HXG530lwP-fb2A</td>\n",
       "      <td>2.0</td>\n",
       "      <td>2015-09-10 02:41:13</td>\n",
       "    </tr>\n",
       "    <tr>\n",
       "      <th>2</th>\n",
       "      <td>2</td>\n",
       "      <td>E21dO10aI0pXCuoDNeSY6A</td>\n",
       "      <td>d3Jj46Fvsx9AT0f6z8NQcw</td>\n",
       "      <td>YjUWPpI6HXG530lwP-fb2A</td>\n",
       "      <td>5.0</td>\n",
       "      <td>2017-08-18 01:42:46</td>\n",
       "    </tr>\n",
       "    <tr>\n",
       "      <th>3</th>\n",
       "      <td>3</td>\n",
       "      <td>7pn3auavTDZyDKlAAku1Og</td>\n",
       "      <td>aOGtShQrhkVF0REtkJCNkA</td>\n",
       "      <td>YjUWPpI6HXG530lwP-fb2A</td>\n",
       "      <td>5.0</td>\n",
       "      <td>2015-09-26 16:13:09</td>\n",
       "    </tr>\n",
       "    <tr>\n",
       "      <th>4</th>\n",
       "      <td>4</td>\n",
       "      <td>Izs72sMY0cCXtHs5exObZw</td>\n",
       "      <td>-rGU3wo4fgEnGRboYdMTjw</td>\n",
       "      <td>YjUWPpI6HXG530lwP-fb2A</td>\n",
       "      <td>3.0</td>\n",
       "      <td>2015-06-22 16:08:27</td>\n",
       "    </tr>\n",
       "  </tbody>\n",
       "</table>\n",
       "</div>"
      ],
      "text/plain": [
       "   Unnamed: 0               review_id                 user_id  \\\n",
       "0           0  saUsX_uimxRlCVr67Z4Jig  8g_iMtfSiwikVnbP2etR0A   \n",
       "1           1  oUrKJzj_qZybqqPatE9q1A  n33TJBR6BPLrkOZiOdXLVg   \n",
       "2           2  E21dO10aI0pXCuoDNeSY6A  d3Jj46Fvsx9AT0f6z8NQcw   \n",
       "3           3  7pn3auavTDZyDKlAAku1Og  aOGtShQrhkVF0REtkJCNkA   \n",
       "4           4  Izs72sMY0cCXtHs5exObZw  -rGU3wo4fgEnGRboYdMTjw   \n",
       "\n",
       "              business_id  stars                 date  \n",
       "0  YjUWPpI6HXG530lwP-fb2A    3.0  2014-02-05 20:30:30  \n",
       "1  YjUWPpI6HXG530lwP-fb2A    2.0  2015-09-10 02:41:13  \n",
       "2  YjUWPpI6HXG530lwP-fb2A    5.0  2017-08-18 01:42:46  \n",
       "3  YjUWPpI6HXG530lwP-fb2A    5.0  2015-09-26 16:13:09  \n",
       "4  YjUWPpI6HXG530lwP-fb2A    3.0  2015-06-22 16:08:27  "
      ]
     },
     "execution_count": 4,
     "metadata": {},
     "output_type": "execute_result"
    }
   ],
   "source": [
    "reviews_data.head()"
   ]
  },
  {
   "cell_type": "code",
   "execution_count": 5,
   "id": "34a9af6a",
   "metadata": {},
   "outputs": [
    {
     "data": {
      "text/html": [
       "<div>\n",
       "<style scoped>\n",
       "    .dataframe tbody tr th:only-of-type {\n",
       "        vertical-align: middle;\n",
       "    }\n",
       "\n",
       "    .dataframe tbody tr th {\n",
       "        vertical-align: top;\n",
       "    }\n",
       "\n",
       "    .dataframe thead th {\n",
       "        text-align: right;\n",
       "    }\n",
       "</style>\n",
       "<table border=\"1\" class=\"dataframe\">\n",
       "  <thead>\n",
       "    <tr style=\"text-align: right;\">\n",
       "      <th></th>\n",
       "      <th>business_id</th>\n",
       "      <th>name</th>\n",
       "      <th>state</th>\n",
       "      <th>city</th>\n",
       "      <th>Unnamed: 0</th>\n",
       "      <th>review_id</th>\n",
       "      <th>user_id</th>\n",
       "      <th>stars</th>\n",
       "      <th>date</th>\n",
       "    </tr>\n",
       "  </thead>\n",
       "  <tbody>\n",
       "    <tr>\n",
       "      <th>0</th>\n",
       "      <td>cTSczU-9-cYUEM2DlNJcQw</td>\n",
       "      <td>1000 Figs</td>\n",
       "      <td>LA</td>\n",
       "      <td>New Orleans</td>\n",
       "      <td>273135</td>\n",
       "      <td>1SjnwHdmN22pSy6Wu4uybw</td>\n",
       "      <td>94ICh-yDZXOOGu-e33C6RA</td>\n",
       "      <td>5.0</td>\n",
       "      <td>2017-11-06 16:43:08</td>\n",
       "    </tr>\n",
       "    <tr>\n",
       "      <th>1</th>\n",
       "      <td>cTSczU-9-cYUEM2DlNJcQw</td>\n",
       "      <td>1000 Figs</td>\n",
       "      <td>LA</td>\n",
       "      <td>New Orleans</td>\n",
       "      <td>273136</td>\n",
       "      <td>zjnxbX9QmuvRE6ycbQX-HQ</td>\n",
       "      <td>-WbrGDEWqgF4SqdpbFYCrQ</td>\n",
       "      <td>5.0</td>\n",
       "      <td>2018-05-19 03:54:37</td>\n",
       "    </tr>\n",
       "    <tr>\n",
       "      <th>2</th>\n",
       "      <td>cTSczU-9-cYUEM2DlNJcQw</td>\n",
       "      <td>1000 Figs</td>\n",
       "      <td>LA</td>\n",
       "      <td>New Orleans</td>\n",
       "      <td>273137</td>\n",
       "      <td>2vJ1ljPWZBr8VPJBkQqlew</td>\n",
       "      <td>2dlEgB61BbJLyyq2xZgn3Q</td>\n",
       "      <td>5.0</td>\n",
       "      <td>2017-03-03 18:29:59</td>\n",
       "    </tr>\n",
       "    <tr>\n",
       "      <th>3</th>\n",
       "      <td>cTSczU-9-cYUEM2DlNJcQw</td>\n",
       "      <td>1000 Figs</td>\n",
       "      <td>LA</td>\n",
       "      <td>New Orleans</td>\n",
       "      <td>273138</td>\n",
       "      <td>tcK5dYq_r0Mc00lxLSVmPw</td>\n",
       "      <td>a0DnfD31lNdiBTY2-YBBFA</td>\n",
       "      <td>4.0</td>\n",
       "      <td>2017-06-28 01:56:40</td>\n",
       "    </tr>\n",
       "    <tr>\n",
       "      <th>4</th>\n",
       "      <td>cTSczU-9-cYUEM2DlNJcQw</td>\n",
       "      <td>1000 Figs</td>\n",
       "      <td>LA</td>\n",
       "      <td>New Orleans</td>\n",
       "      <td>273139</td>\n",
       "      <td>H6FDp7XkKAteRe9YhQAW0Q</td>\n",
       "      <td>o6XA_frgPR48BKXLbydmsw</td>\n",
       "      <td>5.0</td>\n",
       "      <td>2018-06-26 18:35:16</td>\n",
       "    </tr>\n",
       "  </tbody>\n",
       "</table>\n",
       "</div>"
      ],
      "text/plain": [
       "              business_id       name state         city  Unnamed: 0  \\\n",
       "0  cTSczU-9-cYUEM2DlNJcQw  1000 Figs    LA  New Orleans      273135   \n",
       "1  cTSczU-9-cYUEM2DlNJcQw  1000 Figs    LA  New Orleans      273136   \n",
       "2  cTSczU-9-cYUEM2DlNJcQw  1000 Figs    LA  New Orleans      273137   \n",
       "3  cTSczU-9-cYUEM2DlNJcQw  1000 Figs    LA  New Orleans      273138   \n",
       "4  cTSczU-9-cYUEM2DlNJcQw  1000 Figs    LA  New Orleans      273139   \n",
       "\n",
       "                review_id                 user_id  stars                 date  \n",
       "0  1SjnwHdmN22pSy6Wu4uybw  94ICh-yDZXOOGu-e33C6RA    5.0  2017-11-06 16:43:08  \n",
       "1  zjnxbX9QmuvRE6ycbQX-HQ  -WbrGDEWqgF4SqdpbFYCrQ    5.0  2018-05-19 03:54:37  \n",
       "2  2vJ1ljPWZBr8VPJBkQqlew  2dlEgB61BbJLyyq2xZgn3Q    5.0  2017-03-03 18:29:59  \n",
       "3  tcK5dYq_r0Mc00lxLSVmPw  a0DnfD31lNdiBTY2-YBBFA    4.0  2017-06-28 01:56:40  \n",
       "4  H6FDp7XkKAteRe9YhQAW0Q  o6XA_frgPR48BKXLbydmsw    5.0  2018-06-26 18:35:16  "
      ]
     },
     "execution_count": 5,
     "metadata": {},
     "output_type": "execute_result"
    }
   ],
   "source": [
    "#Join the datasets\n",
    "full_data = pd.merge(restaurants_data[['business_id', 'name', 'state', 'city']], reviews_data, how = 'left', on = 'business_id')\n",
    "full_data.head()"
   ]
  },
  {
   "cell_type": "code",
   "execution_count": 6,
   "id": "0272056d",
   "metadata": {},
   "outputs": [
    {
     "data": {
      "text/html": [
       "<div>\n",
       "<style scoped>\n",
       "    .dataframe tbody tr th:only-of-type {\n",
       "        vertical-align: middle;\n",
       "    }\n",
       "\n",
       "    .dataframe tbody tr th {\n",
       "        vertical-align: top;\n",
       "    }\n",
       "\n",
       "    .dataframe thead th {\n",
       "        text-align: right;\n",
       "    }\n",
       "</style>\n",
       "<table border=\"1\" class=\"dataframe\">\n",
       "  <thead>\n",
       "    <tr style=\"text-align: right;\">\n",
       "      <th></th>\n",
       "      <th>business_id</th>\n",
       "      <th>name</th>\n",
       "      <th>state</th>\n",
       "      <th>city</th>\n",
       "      <th>Unnamed: 0</th>\n",
       "      <th>review_id</th>\n",
       "      <th>user_id</th>\n",
       "      <th>stars</th>\n",
       "      <th>date</th>\n",
       "    </tr>\n",
       "  </thead>\n",
       "  <tbody>\n",
       "    <tr>\n",
       "      <th>350080</th>\n",
       "      <td>qqBPf0WQf8EUahAuO9oN1A</td>\n",
       "      <td>Subway</td>\n",
       "      <td>PA</td>\n",
       "      <td>West Chester</td>\n",
       "      <td>391966</td>\n",
       "      <td>YIKe5fqgSV1-BAPwivXudg</td>\n",
       "      <td>qBoCCxKWCimbqBUa4UqG2w</td>\n",
       "      <td>1.0</td>\n",
       "      <td>2020-03-06 00:16:47</td>\n",
       "    </tr>\n",
       "    <tr>\n",
       "      <th>350081</th>\n",
       "      <td>qqBPf0WQf8EUahAuO9oN1A</td>\n",
       "      <td>Subway</td>\n",
       "      <td>PA</td>\n",
       "      <td>West Chester</td>\n",
       "      <td>391967</td>\n",
       "      <td>LSosbr_M_4kqkYX9It_1pQ</td>\n",
       "      <td>kquxKibwL6ahCgywzKbtOg</td>\n",
       "      <td>1.0</td>\n",
       "      <td>2019-09-13 03:05:38</td>\n",
       "    </tr>\n",
       "    <tr>\n",
       "      <th>350082</th>\n",
       "      <td>qqBPf0WQf8EUahAuO9oN1A</td>\n",
       "      <td>Subway</td>\n",
       "      <td>PA</td>\n",
       "      <td>West Chester</td>\n",
       "      <td>391968</td>\n",
       "      <td>PrH3vRSL8gUgti8_jFGflA</td>\n",
       "      <td>7MIwhAW2GYbquzly2Nqj0Q</td>\n",
       "      <td>1.0</td>\n",
       "      <td>2019-09-01 00:53:42</td>\n",
       "    </tr>\n",
       "    <tr>\n",
       "      <th>350083</th>\n",
       "      <td>qqBPf0WQf8EUahAuO9oN1A</td>\n",
       "      <td>Subway</td>\n",
       "      <td>PA</td>\n",
       "      <td>West Chester</td>\n",
       "      <td>391969</td>\n",
       "      <td>kz-ab3v-HzjgwqnudRaTiQ</td>\n",
       "      <td>io76HoSQ7VgnYve1chZM3A</td>\n",
       "      <td>1.0</td>\n",
       "      <td>2021-06-06 23:20:39</td>\n",
       "    </tr>\n",
       "    <tr>\n",
       "      <th>350084</th>\n",
       "      <td>qqBPf0WQf8EUahAuO9oN1A</td>\n",
       "      <td>Subway</td>\n",
       "      <td>PA</td>\n",
       "      <td>West Chester</td>\n",
       "      <td>391970</td>\n",
       "      <td>ExD9S3eClW5wF36wpuvS2g</td>\n",
       "      <td>ed4gXi8sm5ZSF_5JMFcJow</td>\n",
       "      <td>1.0</td>\n",
       "      <td>2020-05-21 01:39:52</td>\n",
       "    </tr>\n",
       "  </tbody>\n",
       "</table>\n",
       "</div>"
      ],
      "text/plain": [
       "                   business_id    name state          city  Unnamed: 0  \\\n",
       "350080  qqBPf0WQf8EUahAuO9oN1A  Subway    PA  West Chester      391966   \n",
       "350081  qqBPf0WQf8EUahAuO9oN1A  Subway    PA  West Chester      391967   \n",
       "350082  qqBPf0WQf8EUahAuO9oN1A  Subway    PA  West Chester      391968   \n",
       "350083  qqBPf0WQf8EUahAuO9oN1A  Subway    PA  West Chester      391969   \n",
       "350084  qqBPf0WQf8EUahAuO9oN1A  Subway    PA  West Chester      391970   \n",
       "\n",
       "                     review_id                 user_id  stars  \\\n",
       "350080  YIKe5fqgSV1-BAPwivXudg  qBoCCxKWCimbqBUa4UqG2w    1.0   \n",
       "350081  LSosbr_M_4kqkYX9It_1pQ  kquxKibwL6ahCgywzKbtOg    1.0   \n",
       "350082  PrH3vRSL8gUgti8_jFGflA  7MIwhAW2GYbquzly2Nqj0Q    1.0   \n",
       "350083  kz-ab3v-HzjgwqnudRaTiQ  io76HoSQ7VgnYve1chZM3A    1.0   \n",
       "350084  ExD9S3eClW5wF36wpuvS2g  ed4gXi8sm5ZSF_5JMFcJow    1.0   \n",
       "\n",
       "                       date  \n",
       "350080  2020-03-06 00:16:47  \n",
       "350081  2019-09-13 03:05:38  \n",
       "350082  2019-09-01 00:53:42  \n",
       "350083  2021-06-06 23:20:39  \n",
       "350084  2020-05-21 01:39:52  "
      ]
     },
     "execution_count": 6,
     "metadata": {},
     "output_type": "execute_result"
    }
   ],
   "source": [
    "#Take Subway data from full dataset\n",
    "subway_data = full_data.loc[full_data['name'] == 'Subway']\n",
    "subway_data.head()"
   ]
  },
  {
   "cell_type": "code",
   "execution_count": 7,
   "id": "e3d8bab2",
   "metadata": {},
   "outputs": [
    {
     "name": "stderr",
     "output_type": "stream",
     "text": [
      "C:\\Users\\achot\\AppData\\Local\\Temp\\ipykernel_10424\\831830726.py:2: SettingWithCopyWarning: \n",
      "A value is trying to be set on a copy of a slice from a DataFrame.\n",
      "Try using .loc[row_indexer,col_indexer] = value instead\n",
      "\n",
      "See the caveats in the documentation: https://pandas.pydata.org/pandas-docs/stable/user_guide/indexing.html#returning-a-view-versus-a-copy\n",
      "  subway_data['year'] = pd.to_datetime(subway_data['date']).dt.year\n"
     ]
    },
    {
     "data": {
      "text/html": [
       "<div>\n",
       "<style scoped>\n",
       "    .dataframe tbody tr th:only-of-type {\n",
       "        vertical-align: middle;\n",
       "    }\n",
       "\n",
       "    .dataframe tbody tr th {\n",
       "        vertical-align: top;\n",
       "    }\n",
       "\n",
       "    .dataframe thead th {\n",
       "        text-align: right;\n",
       "    }\n",
       "</style>\n",
       "<table border=\"1\" class=\"dataframe\">\n",
       "  <thead>\n",
       "    <tr style=\"text-align: right;\">\n",
       "      <th></th>\n",
       "      <th>business_id</th>\n",
       "      <th>name</th>\n",
       "      <th>state</th>\n",
       "      <th>city</th>\n",
       "      <th>Unnamed: 0</th>\n",
       "      <th>review_id</th>\n",
       "      <th>user_id</th>\n",
       "      <th>stars</th>\n",
       "      <th>date</th>\n",
       "      <th>year</th>\n",
       "    </tr>\n",
       "  </thead>\n",
       "  <tbody>\n",
       "    <tr>\n",
       "      <th>350080</th>\n",
       "      <td>qqBPf0WQf8EUahAuO9oN1A</td>\n",
       "      <td>Subway</td>\n",
       "      <td>PA</td>\n",
       "      <td>West Chester</td>\n",
       "      <td>391966</td>\n",
       "      <td>YIKe5fqgSV1-BAPwivXudg</td>\n",
       "      <td>qBoCCxKWCimbqBUa4UqG2w</td>\n",
       "      <td>1.0</td>\n",
       "      <td>2020-03-06 00:16:47</td>\n",
       "      <td>2020</td>\n",
       "    </tr>\n",
       "    <tr>\n",
       "      <th>350081</th>\n",
       "      <td>qqBPf0WQf8EUahAuO9oN1A</td>\n",
       "      <td>Subway</td>\n",
       "      <td>PA</td>\n",
       "      <td>West Chester</td>\n",
       "      <td>391967</td>\n",
       "      <td>LSosbr_M_4kqkYX9It_1pQ</td>\n",
       "      <td>kquxKibwL6ahCgywzKbtOg</td>\n",
       "      <td>1.0</td>\n",
       "      <td>2019-09-13 03:05:38</td>\n",
       "      <td>2019</td>\n",
       "    </tr>\n",
       "    <tr>\n",
       "      <th>350082</th>\n",
       "      <td>qqBPf0WQf8EUahAuO9oN1A</td>\n",
       "      <td>Subway</td>\n",
       "      <td>PA</td>\n",
       "      <td>West Chester</td>\n",
       "      <td>391968</td>\n",
       "      <td>PrH3vRSL8gUgti8_jFGflA</td>\n",
       "      <td>7MIwhAW2GYbquzly2Nqj0Q</td>\n",
       "      <td>1.0</td>\n",
       "      <td>2019-09-01 00:53:42</td>\n",
       "      <td>2019</td>\n",
       "    </tr>\n",
       "    <tr>\n",
       "      <th>350083</th>\n",
       "      <td>qqBPf0WQf8EUahAuO9oN1A</td>\n",
       "      <td>Subway</td>\n",
       "      <td>PA</td>\n",
       "      <td>West Chester</td>\n",
       "      <td>391969</td>\n",
       "      <td>kz-ab3v-HzjgwqnudRaTiQ</td>\n",
       "      <td>io76HoSQ7VgnYve1chZM3A</td>\n",
       "      <td>1.0</td>\n",
       "      <td>2021-06-06 23:20:39</td>\n",
       "      <td>2021</td>\n",
       "    </tr>\n",
       "    <tr>\n",
       "      <th>350084</th>\n",
       "      <td>qqBPf0WQf8EUahAuO9oN1A</td>\n",
       "      <td>Subway</td>\n",
       "      <td>PA</td>\n",
       "      <td>West Chester</td>\n",
       "      <td>391970</td>\n",
       "      <td>ExD9S3eClW5wF36wpuvS2g</td>\n",
       "      <td>ed4gXi8sm5ZSF_5JMFcJow</td>\n",
       "      <td>1.0</td>\n",
       "      <td>2020-05-21 01:39:52</td>\n",
       "      <td>2020</td>\n",
       "    </tr>\n",
       "  </tbody>\n",
       "</table>\n",
       "</div>"
      ],
      "text/plain": [
       "                   business_id    name state          city  Unnamed: 0  \\\n",
       "350080  qqBPf0WQf8EUahAuO9oN1A  Subway    PA  West Chester      391966   \n",
       "350081  qqBPf0WQf8EUahAuO9oN1A  Subway    PA  West Chester      391967   \n",
       "350082  qqBPf0WQf8EUahAuO9oN1A  Subway    PA  West Chester      391968   \n",
       "350083  qqBPf0WQf8EUahAuO9oN1A  Subway    PA  West Chester      391969   \n",
       "350084  qqBPf0WQf8EUahAuO9oN1A  Subway    PA  West Chester      391970   \n",
       "\n",
       "                     review_id                 user_id  stars  \\\n",
       "350080  YIKe5fqgSV1-BAPwivXudg  qBoCCxKWCimbqBUa4UqG2w    1.0   \n",
       "350081  LSosbr_M_4kqkYX9It_1pQ  kquxKibwL6ahCgywzKbtOg    1.0   \n",
       "350082  PrH3vRSL8gUgti8_jFGflA  7MIwhAW2GYbquzly2Nqj0Q    1.0   \n",
       "350083  kz-ab3v-HzjgwqnudRaTiQ  io76HoSQ7VgnYve1chZM3A    1.0   \n",
       "350084  ExD9S3eClW5wF36wpuvS2g  ed4gXi8sm5ZSF_5JMFcJow    1.0   \n",
       "\n",
       "                       date  year  \n",
       "350080  2020-03-06 00:16:47  2020  \n",
       "350081  2019-09-13 03:05:38  2019  \n",
       "350082  2019-09-01 00:53:42  2019  \n",
       "350083  2021-06-06 23:20:39  2021  \n",
       "350084  2020-05-21 01:39:52  2020  "
      ]
     },
     "execution_count": 7,
     "metadata": {},
     "output_type": "execute_result"
    }
   ],
   "source": [
    "#Plot average reviews and number of reviews\n",
    "subway_data['year'] = pd.to_datetime(subway_data['date']).dt.year\n",
    "subway_data.head()\n"
   ]
  },
  {
   "cell_type": "code",
   "execution_count": 8,
   "id": "c4c5872e",
   "metadata": {},
   "outputs": [
    {
     "data": {
      "text/plain": [
       "<BarContainer object of 178 artists>"
      ]
     },
     "execution_count": 8,
     "metadata": {},
     "output_type": "execute_result"
    },
    {
     "data": {
      "image/png": "[encoded data removed]",
      "text/plain": [
       "<Figure size 432x288 with 1 Axes>"
      ]
     },
     "metadata": {
      "needs_background": "light"
     },
     "output_type": "display_data"
    }
   ],
   "source": [
    "#Get number of users by year\n",
    "rating_trend = pd.DataFrame(subway_data.groupby(['year', 'state'], as_index=False).stars.count())\n",
    "plt.bar(rating_trend['year'], rating_trend['stars'])\n"
   ]
  },
  {
   "cell_type": "code",
   "execution_count": 9,
   "id": "89f4e57e",
   "metadata": {},
   "outputs": [
    {
     "data": {
      "text/plain": [
       "<AxesSubplot:xlabel='year', ylabel='stars'>"
      ]
     },
     "execution_count": 9,
     "metadata": {},
     "output_type": "execute_result"
    },
    {
     "data": {
      "image/png": "[encoded data removed]",
      "text/plain": [
       "<Figure size 432x288 with 1 Axes>"
      ]
     },
     "metadata": {
      "needs_background": "light"
     },
     "output_type": "display_data"
    }
   ],
   "source": [
    "#Plot total average ratings from 2006 - 2022\n",
    "rating_by_year = pd.DataFrame(subway_data.groupby(['year'], as_index=False).stars.mean())\n",
    "sns.lineplot(data = rating_by_year, x = 'year', y = 'stars')"
   ]
  },
  {
   "cell_type": "code",
   "execution_count": 10,
   "id": "928a56bf",
   "metadata": {},
   "outputs": [
    {
     "data": {
      "text/plain": [
       "Text(0.5, 1.0, 'Average Subway Reviews by State 2006 - 2022')"
      ]
     },
     "execution_count": 10,
     "metadata": {},
     "output_type": "execute_result"
    },
    {
     "data": {
      "image/png": "[encoded data removed]",
      "text/plain": [
       "<Figure size 432x288 with 1 Axes>"
      ]
     },
     "metadata": {
      "needs_background": "light"
     },
     "output_type": "display_data"
    }
   ],
   "source": [
    "#Plot average revies over time by the top 4 States with most reviews\n",
    "\n",
    "reviews_by_state = pd.DataFrame(subway_data.groupby(['state'], as_index = False).stars.count())\n",
    "top_states = reviews_by_state.sort_values(by=['stars'], ascending = False).head(4)\n",
    "comp = top_states.merge(subway_data, how = 'left', on = 'state')\n",
    "comp = comp.drop(\n",
    "    labels = ['name', 'city','business_id' ,'Unnamed: 0', 'date', 'user_id',  'review_id'], axis = 1)\n",
    "sub_state =sns.lineplot(data = comp, x = 'year', y = 'stars_y', hue = 'state', style = 'state', ci = 0, legend = 'brief')\n",
    "sub_state.set(xlabel='Year', ylabel='Average Review')\n",
    "sub_state.set_title('Average Subway Reviews by State 2006 - 2022')"
   ]
  },
  {
   "cell_type": "code",
   "execution_count": 11,
   "id": "96f9c758",
   "metadata": {},
   "outputs": [],
   "source": [
    "#Identify competitors\n",
    "arbys = full_data.loc[full_data['name'] == \"Jimmy John's\"]\n",
    "j_mikes = full_data.loc[full_data['name'] == \"Jersey Mike's Subs\"]"
   ]
  },
  {
   "cell_type": "code",
   "execution_count": 12,
   "id": "32f8f279",
   "metadata": {},
   "outputs": [
    {
     "data": {
      "text/plain": [
       "Text(0.5, 1.0, \"Subway vs. Competitors' Average Review\")"
      ]
     },
     "execution_count": 12,
     "metadata": {},
     "output_type": "execute_result"
    },
    {
     "data": {
      "image/png": "[encoded data removed]",
      "text/plain": [
       "<Figure size 432x288 with 1 Axes>"
      ]
     },
     "metadata": {
      "needs_background": "light"
     },
     "output_type": "display_data"
    }
   ],
   "source": [
    "#Compare mean and standard dev. of Subway reviews with competitors\n",
    "combine_data = pd.concat([subway_data, arbys])\n",
    "combine_data = pd.concat([combine_data, j_mikes])\n",
    "combine_data = combine_data.drop(\n",
    "    labels = ['state', 'Unnamed: 0', 'year', 'date', 'user_id', 'review_id'], axis = 1)\n",
    "\n",
    "ratings_stats = pd.DataFrame(combine_data.groupby(['name'], as_index = False).stars.mean())\n",
    "ratings_std = pd.DataFrame(combine_data.groupby(['name'], as_index = False).stars.std())\n",
    "total_ratings = pd.concat([ratings_stats, ratings_std])\n",
    "compare_plot = sns.barplot(data = total_ratings, x = 'name', y = 'stars')\n",
    "compare_plot.set(xlabel='Restaurants', ylabel='Average Review')\n",
    "compare_plot.set_title(\"Subway vs. Competitors' Average Review\")"
   ]
  },
  {
   "cell_type": "code",
   "execution_count": 13,
   "id": "61c098f4",
   "metadata": {},
   "outputs": [],
   "source": [
    "#Create dataframes to compare national chains vs. local restaurants\n",
    "rest_by_name = full_data.drop(\n",
    "    labels = ['business_id','state', 'Unnamed: 0', 'date', 'user_id', 'review_id'], axis = 1)\n",
    "unique_cities = pd.DataFrame(rest_by_name.groupby(['name'], as_index = False).city.nunique())\n",
    "average_rating = pd.DataFrame(rest_by_name.groupby(['name'], as_index = False).stars.mean())\n",
    "data2 = unique_cities.merge(average_rating, how = 'left', on = 'name')"
   ]
  },
  {
   "cell_type": "code",
   "execution_count": 14,
   "id": "c02cc9eb",
   "metadata": {},
   "outputs": [
    {
     "data": {
      "text/plain": [
       "Text(0.5, 1.0, 'Average Reviews of the Top Ten Largest National Chains')"
      ]
     },
     "execution_count": 14,
     "metadata": {},
     "output_type": "execute_result"
    },
    {
     "data": {
      "image/png": "[encoded data removed]",
      "text/plain": [
       "<Figure size 432x288 with 1 Axes>"
      ]
     },
     "metadata": {
      "needs_background": "light"
     },
     "output_type": "display_data"
    }
   ],
   "source": [
    "#Plot average ratings for the national chains\n",
    "national_chain = data2.loc[data2['city'] >= 50]\n",
    "#Plot top ten chains by rating\n",
    "top_ten = national_chain.sort_values(by=['city'], ascending = False).head(10)\n",
    "top_nchains = sns.barplot(data = top_ten, x = 'stars', y = 'name', orient = 'h')\n",
    "top_nchains.set(xlabel='Average Reviews', ylabel='National Chains')\n",
    "top_nchains.set_title(\"Average Reviews of the Top Ten Largest National Chains\")"
   ]
  },
  {
   "cell_type": "code",
   "execution_count": 15,
   "id": "a6c7f324",
   "metadata": {},
   "outputs": [
    {
     "data": {
      "text/plain": [
       "Text(0.5, 1.0, 'Average Reviews of the Top Ten Local Chains')"
      ]
     },
     "execution_count": 15,
     "metadata": {},
     "output_type": "execute_result"
    },
    {
     "data": {
      "image/png": "[encoded data removed]",
      "text/plain": [
       "<Figure size 432x288 with 1 Axes>"
      ]
     },
     "metadata": {
      "needs_background": "light"
     },
     "output_type": "display_data"
    }
   ],
   "source": [
    "#Plot average ratings for the local chains\n",
    "local_chain = data2.loc[data2['city'] == 1]\n",
    "top_local = local_chain.sort_values(by=['city'], ascending = False).head(10)\n",
    "top_lchains = sns.barplot(data = top_local, x = 'stars', y = 'name', orient = 'h')\n",
    "top_lchains.set(xlabel='Average Reviews', ylabel='Local Chains')\n",
    "top_lchains.set_title(\"Average Reviews of the Top Ten Local Chains\")"
   ]
  },
  {
   "cell_type": "code",
   "execution_count": 16,
   "id": "482f173e",
   "metadata": {},
   "outputs": [
    {
     "data": {
      "text/plain": [
       "<AxesSubplot:xlabel='name', ylabel='stars'>"
      ]
     },
     "execution_count": 16,
     "metadata": {},
     "output_type": "execute_result"
    },
    {
     "data": {
      "image/png": "[encoded data removed]",
      "text/plain": [
       "<Figure size 432x288 with 1 Axes>"
      ]
     },
     "metadata": {
      "needs_background": "light"
     },
     "output_type": "display_data"
    }
   ],
   "source": [
    "#Plot Subway's average rating\n",
    "subway = data2.loc[data2['name'] == 'Subway']\n",
    "sns.barplot(data = subway, x = 'name', y = 'stars')"
   ]
  },
  {
   "cell_type": "code",
   "execution_count": 24,
   "id": "d8fda50e",
   "metadata": {},
   "outputs": [
    {
     "data": {
      "text/plain": [
       "Text(0.5, 1.0, 'Average Reviews by Chain Size')"
      ]
     },
     "execution_count": 24,
     "metadata": {},
     "output_type": "execute_result"
    },
    {
     "data": {
      "image/png": "[encoded data removed]",
      "text/plain": [
       "<Figure size 432x288 with 1 Axes>"
      ]
     },
     "metadata": {
      "needs_background": "light"
     },
     "output_type": "display_data"
    }
   ],
   "source": [
    "#plot the rating recieved by national vs. local chains\n",
    "reviews_by_size = sns.lineplot(data = data2, x = 'city', y = 'stars')\n",
    "reviews_by_size.set(xlabel='Number of Locations', ylabel='Average Reviews')\n",
    "reviews_by_size.set_title(\"Average Reviews by Chain Size\")"
   ]
  },
  {
   "cell_type": "code",
   "execution_count": 18,
   "id": "f20a3fa4",
   "metadata": {},
   "outputs": [
    {
     "data": {
      "text/plain": [
       "<AxesSubplot:xlabel='stars'>"
      ]
     },
     "execution_count": 18,
     "metadata": {},
     "output_type": "execute_result"
    },
    {
     "data": {
      "image/png": "[encoded data removed]",
      "text/plain": [
       "<Figure size 432x288 with 1 Axes>"
      ]
     },
     "metadata": {
      "needs_background": "light"
     },
     "output_type": "display_data"
    }
   ],
   "source": [
    "#Create plot with ratings and number of reviews\n",
    "ratings_vs_reviews = pd.DataFrame(subway_data.groupby(['stars']).stars.count())\n",
    "ratings_vs_reviews.plot.bar()"
   ]
  },
  {
   "cell_type": "code",
   "execution_count": 19,
   "id": "489b7399",
   "metadata": {},
   "outputs": [
    {
     "data": {
      "text/plain": [
       "<AxesSubplot:xlabel='stars'>"
      ]
     },
     "execution_count": 19,
     "metadata": {},
     "output_type": "execute_result"
    },
    {
     "data": {
      "image/png": "[encoded data removed]",
      "text/plain": [
       "<Figure size 432x288 with 1 Axes>"
      ]
     },
     "metadata": {
      "needs_background": "light"
     },
     "output_type": "display_data"
    }
   ],
   "source": [
    "start_year = int(2018)\n",
    "end_year = int(2021)\n",
    "time = (subway_data['year'] >= start_year) & (subway_data['year'] <= end_year)\n",
    "years_ratings = pd.DataFrame(subway_data.loc[time])\n",
    "ratings_vs_reviews_18_21 = pd.DataFrame(years_ratings.groupby(['stars']).stars.count())\n",
    "ratings_vs_reviews_18_21.plot.bar()\n"
   ]
  },
  {
   "cell_type": "code",
   "execution_count": 65,
   "id": "a36740df",
   "metadata": {},
   "outputs": [
    {
     "data": {
      "text/html": [
       "<div>\n",
       "<style scoped>\n",
       "    .dataframe tbody tr th:only-of-type {\n",
       "        vertical-align: middle;\n",
       "    }\n",
       "\n",
       "    .dataframe tbody tr th {\n",
       "        vertical-align: top;\n",
       "    }\n",
       "\n",
       "    .dataframe thead th {\n",
       "        text-align: right;\n",
       "    }\n",
       "</style>\n",
       "<table border=\"1\" class=\"dataframe\">\n",
       "  <thead>\n",
       "    <tr style=\"text-align: right;\">\n",
       "      <th></th>\n",
       "      <th>state</th>\n",
       "      <th>stars</th>\n",
       "    </tr>\n",
       "  </thead>\n",
       "  <tbody>\n",
       "    <tr>\n",
       "      <th>3</th>\n",
       "      <td>DE</td>\n",
       "      <td>1.000000</td>\n",
       "    </tr>\n",
       "    <tr>\n",
       "      <th>10</th>\n",
       "      <td>NJ</td>\n",
       "      <td>2.100000</td>\n",
       "    </tr>\n",
       "    <tr>\n",
       "      <th>6</th>\n",
       "      <td>IL</td>\n",
       "      <td>2.188119</td>\n",
       "    </tr>\n",
       "    <tr>\n",
       "      <th>8</th>\n",
       "      <td>LA</td>\n",
       "      <td>2.225225</td>\n",
       "    </tr>\n",
       "    <tr>\n",
       "      <th>5</th>\n",
       "      <td>ID</td>\n",
       "      <td>2.326087</td>\n",
       "    </tr>\n",
       "    <tr>\n",
       "      <th>9</th>\n",
       "      <td>MO</td>\n",
       "      <td>2.392377</td>\n",
       "    </tr>\n",
       "    <tr>\n",
       "      <th>2</th>\n",
       "      <td>CA</td>\n",
       "      <td>2.400000</td>\n",
       "    </tr>\n",
       "    <tr>\n",
       "      <th>13</th>\n",
       "      <td>TN</td>\n",
       "      <td>2.418750</td>\n",
       "    </tr>\n",
       "    <tr>\n",
       "      <th>4</th>\n",
       "      <td>FL</td>\n",
       "      <td>2.502326</td>\n",
       "    </tr>\n",
       "    <tr>\n",
       "      <th>7</th>\n",
       "      <td>IN</td>\n",
       "      <td>2.674365</td>\n",
       "    </tr>\n",
       "    <tr>\n",
       "      <th>12</th>\n",
       "      <td>PA</td>\n",
       "      <td>2.734884</td>\n",
       "    </tr>\n",
       "    <tr>\n",
       "      <th>0</th>\n",
       "      <td>AB</td>\n",
       "      <td>2.741176</td>\n",
       "    </tr>\n",
       "    <tr>\n",
       "      <th>11</th>\n",
       "      <td>NV</td>\n",
       "      <td>2.747253</td>\n",
       "    </tr>\n",
       "    <tr>\n",
       "      <th>1</th>\n",
       "      <td>AZ</td>\n",
       "      <td>3.010331</td>\n",
       "    </tr>\n",
       "  </tbody>\n",
       "</table>\n",
       "</div>"
      ],
      "text/plain": [
       "   state     stars\n",
       "3     DE  1.000000\n",
       "10    NJ  2.100000\n",
       "6     IL  2.188119\n",
       "8     LA  2.225225\n",
       "5     ID  2.326087\n",
       "9     MO  2.392377\n",
       "2     CA  2.400000\n",
       "13    TN  2.418750\n",
       "4     FL  2.502326\n",
       "7     IN  2.674365\n",
       "12    PA  2.734884\n",
       "0     AB  2.741176\n",
       "11    NV  2.747253\n",
       "1     AZ  3.010331"
      ]
     },
     "execution_count": 65,
     "metadata": {},
     "output_type": "execute_result"
    }
   ],
   "source": [
    "#Locate states and cities that rate Subway the lowest\n",
    "avg_reviews_by_state = pd.DataFrame(subway_data.groupby(['state'], as_index = False).stars.mean())\n",
    "city_states_ratings = avg_reviews_by_state.sort_values(by=['stars'], ascending = True)\n",
    "city_states_ratings.tail(15)\n",
    "#Delaware seems to be a problem state, lets explore further"
   ]
  },
  {
   "cell_type": "code",
   "execution_count": 20,
   "id": "7f666d6b",
   "metadata": {},
   "outputs": [
    {
     "data": {
      "text/plain": [
       "<AxesSubplot:xlabel='city', ylabel='stars'>"
      ]
     },
     "execution_count": 20,
     "metadata": {},
     "output_type": "execute_result"
    },
    {
     "data": {
      "image/png": "[encoded data removed]",
      "text/plain": [
       "<Figure size 432x288 with 1 Axes>"
      ]
     },
     "metadata": {
      "needs_background": "light"
     },
     "output_type": "display_data"
    }
   ],
   "source": [
    "#Plot mean reviews of cities in Delaware\n",
    "de_data = subway_data.loc[subway_data['state'] == \"DE\"]\n",
    "de_data = de_data.loc[de_data['stars'] <= 2]\n",
    "de_data.groupby(['city'], as_index = False).stars.mean()\n",
    "sns.barplot(data = de_data, x = 'city', y = 'stars')"
   ]
  },
  {
   "cell_type": "code",
   "execution_count": 21,
   "id": "adee318b",
   "metadata": {},
   "outputs": [
    {
     "data": {
      "text/html": [
       "<div>\n",
       "<style scoped>\n",
       "    .dataframe tbody tr th:only-of-type {\n",
       "        vertical-align: middle;\n",
       "    }\n",
       "\n",
       "    .dataframe tbody tr th {\n",
       "        vertical-align: top;\n",
       "    }\n",
       "\n",
       "    .dataframe thead th {\n",
       "        text-align: right;\n",
       "    }\n",
       "</style>\n",
       "<table border=\"1\" class=\"dataframe\">\n",
       "  <thead>\n",
       "    <tr style=\"text-align: right;\">\n",
       "      <th></th>\n",
       "      <th>state</th>\n",
       "      <th>city</th>\n",
       "    </tr>\n",
       "  </thead>\n",
       "  <tbody>\n",
       "    <tr>\n",
       "      <th>4</th>\n",
       "      <td>FL</td>\n",
       "      <td>29</td>\n",
       "    </tr>\n",
       "    <tr>\n",
       "      <th>9</th>\n",
       "      <td>MO</td>\n",
       "      <td>26</td>\n",
       "    </tr>\n",
       "    <tr>\n",
       "      <th>12</th>\n",
       "      <td>PA</td>\n",
       "      <td>13</td>\n",
       "    </tr>\n",
       "    <tr>\n",
       "      <th>6</th>\n",
       "      <td>IL</td>\n",
       "      <td>12</td>\n",
       "    </tr>\n",
       "    <tr>\n",
       "      <th>13</th>\n",
       "      <td>TN</td>\n",
       "      <td>12</td>\n",
       "    </tr>\n",
       "  </tbody>\n",
       "</table>\n",
       "</div>"
      ],
      "text/plain": [
       "   state  city\n",
       "4     FL    29\n",
       "9     MO    26\n",
       "12    PA    13\n",
       "6     IL    12\n",
       "13    TN    12"
      ]
     },
     "execution_count": 21,
     "metadata": {},
     "output_type": "execute_result"
    }
   ],
   "source": [
    "#Delware only has one city, lets take a look at the states with more Subway locations\n",
    "states_more_cities = pd.DataFrame(subway_data.groupby(['state'], as_index = False).city.nunique())\n",
    "states_more_cities = states_more_cities.sort_values(by=['city'], ascending = False)\n",
    "states_more_cities.head(5)"
   ]
  },
  {
   "cell_type": "code",
   "execution_count": 22,
   "id": "338b0752",
   "metadata": {},
   "outputs": [
    {
     "data": {
      "text/plain": [
       "<AxesSubplot:xlabel='stars', ylabel='city'>"
      ]
     },
     "execution_count": 22,
     "metadata": {},
     "output_type": "execute_result"
    },
    {
     "data": {
      "image/png": "[encoded data removed]",
      "text/plain": [
       "<Figure size 432x288 with 1 Axes>"
      ]
     },
     "metadata": {
      "needs_background": "light"
     },
     "output_type": "display_data"
    }
   ],
   "source": [
    "#Illinois has 12 locations and lower average reviews, lets take a look at the reviews by city\n",
    "il_data = subway_data.loc[subway_data['state'] == \"IL\"]\n",
    "il_data = il_data.loc[il_data['stars'] <= 3]\n",
    "il_data.groupby(['city'], as_index = False).stars.mean()\n",
    "sns.barplot(data = il_data, x = 'stars', y = 'city', orient = 'h')"
   ]
  },
  {
   "cell_type": "code",
   "execution_count": 23,
   "id": "f0f65353",
   "metadata": {},
   "outputs": [
    {
     "data": {
      "text/plain": [
       "<AxesSubplot:xlabel='name', ylabel='stars'>"
      ]
     },
     "execution_count": 23,
     "metadata": {},
     "output_type": "execute_result"
    },
    {
     "data": {
      "image/png": "[encoded data removed]",
      "text/plain": [
       "<Figure size 432x288 with 1 Axes>"
      ]
     },
     "metadata": {
      "needs_background": "light"
     },
     "output_type": "display_data"
    }
   ],
   "source": [
    "#Compare how competitors are doing in IL\n",
    "arbys_il_data = arbys.loc[arbys['state'] == \"IL\"]\n",
    "j_mikes_il_data = j_mikes.loc[j_mikes['state'] == \"IL\"]\n",
    "#Plot average reviews in Illinois vs. Subway\n",
    "arbys_il_data = arbys_il_data.groupby(['name'], as_index = False).stars.mean()\n",
    "j_mikes_il_data = j_mikes_il_data.groupby(['name'], as_index = False).stars.mean()\n",
    "subway_il_data = subway_data.loc[subway_data['state'] == \"IL\"]\n",
    "subway_il_data = subway_data.groupby(['name'], as_index = False).stars.mean()\n",
    "compare_il_reviews = pd.concat([subway_il_data, arbys_il_data])\n",
    "compare_il_reviews = pd.concat([compare_il_reviews, j_mikes_il_data])\n",
    "#Plot data\n",
    "sns.barplot(data = compare_il_reviews, x = 'name', y ='stars')"
   ]
  },
  {
   "cell_type": "code",
   "execution_count": null,
   "id": "b642eb0c",
   "metadata": {},
   "outputs": [],
   "source": []
  }
 ],
 "metadata": {
  "kernelspec": {
   "display_name": "Python 3 (ipykernel)",
   "language": "python",
   "name": "python3"
  },
  "language_info": {
   "codemirror_mode": {
    "name": "ipython",
    "version": 3
   },
   "file_extension": ".py",
   "mimetype": "text/x-python",
   "name": "python",
   "nbconvert_exporter": "python",
   "pygments_lexer": "ipython3",
   "version": "3.9.12"
  }
 },
 "nbformat": 4,
 "nbformat_minor": 5
}
